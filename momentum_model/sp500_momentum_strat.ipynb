{
 "cells": [
  {
   "cell_type": "markdown",
   "id": "e4dde46f-6dfa-4404-8b92-78f6cb86c8e9",
   "metadata": {},
   "source": [
    "# Project"
   ]
  },
  {
   "cell_type": "markdown",
   "id": "3f46e2d4-af7a-482c-9b44-655c5e402b70",
   "metadata": {},
   "source": [
    "## Introduction to the Project\n",
    "The S&P 500 (Standard & Poor's 500) is a stock market index that tracks the performance of 500 of the largest publicly traded companies in the United States. It is widely regarded as one of the best representations of the U.S. stock market and economy. Over the long term, the S&P 500 has shown consistent growth, making it a key focus for long-term investors. However, it can also experience significant volatility in the short term.\n",
    "\n",
    "In this project, we will make our first attempt to build a momentum-based strategy to trade the S&P 500 index. At the end of the project, you will have built a program that you can later expand and customise to suit your needs. We will use the python packages numpy, scipy and sqlite3, among others, in this project.\n",
    "\n",
    "Tips: Review the code snippets that we went through during the course. Reorganize them and you are half-way done! Try experimenting with different configurations of the confidence interval, the lookback window and the forecast horizon. Be brave and experiment with different ways of deciding the position size. You may be surprised by your talent!"
   ]
  },
  {
   "cell_type": "markdown",
   "id": "d530ba25-2a6a-419d-a824-263b48512d93",
   "metadata": {},
   "source": [
    "Re-organize your code from the exercises into a Python program that \n",
    "1. read prices from a database\n",
    "2. calibrate a GBM model on each day when new prices are received.\n",
    "3. forecast the price in e.g. 10 days and\n",
    "   1. calculate the confidence interval of the forecast\n",
    "   2. calculate the expected shortfall from the price forecast\n",
    "4. code your trading signals using the price forecast and the expected shortfall.\n",
    "5. store your postions into the *positions* table after each trade.\n",
    "6. produce a 1-year backtest record from 2020-06-01 to 2021-05-31.\n",
    "\n",
    "**Hint**\n",
    "\n",
    "1. Collect all the code related to the GBM model into a class"
   ]
  },
  {
   "cell_type": "code",
   "execution_count": 4,
   "id": "22166220-19fa-4df1-a9dc-32e1280d657b",
   "metadata": {},
   "outputs": [],
   "source": [
    "# Appears 'prices' table exists but has no data - writing to it using yfinance data:"
   ]
  },
  {
   "cell_type": "code",
   "execution_count": 5,
   "id": "833d5b47-6acc-4847-8f7f-e676720962b3",
   "metadata": {},
   "outputs": [
    {
     "name": "stderr",
     "output_type": "stream",
     "text": [
      "/var/folders/v4/sm00xvsd7l3cn1whnf5h88ww0000gn/T/ipykernel_29815/1606458228.py:17: FutureWarning: YF.download() has changed argument auto_adjust default to True\n",
      "  data = yf.download(\"SPY\", start=\"2019-01-01\", end=\"2022-01-01\")\n",
      "[*********************100%***********************]  1 of 1 completed"
     ]
    },
    {
     "name": "stdout",
     "output_type": "stream",
     "text": [
      "Loaded prices into SP500.db\n"
     ]
    },
    {
     "name": "stderr",
     "output_type": "stream",
     "text": [
      "\n",
      "/var/folders/v4/sm00xvsd7l3cn1whnf5h88ww0000gn/T/ipykernel_29815/1606458228.py:22: FutureWarning: Calling float on a single element Series is deprecated and will raise a TypeError in the future. Use float(ser.iloc[0]) instead\n",
      "  adj_close = float(row[\"Close\"])\n"
     ]
    }
   ],
   "source": [
    "import sqlite3\n",
    "import yfinance as yf\n",
    "\n",
    "conn = sqlite3.connect(\"SP500.db\")\n",
    "cs = conn.cursor()\n",
    "\n",
    "# Recreate prices table\n",
    "cs.execute(\"DROP TABLE IF EXISTS prices;\")\n",
    "cs.execute(\"\"\"\n",
    "    CREATE TABLE prices (\n",
    "        date TEXT PRIMARY KEY,\n",
    "        price REAL\n",
    "    );\n",
    "\"\"\")\n",
    "\n",
    "# Download SPY data\n",
    "data = yf.download(\"SPY\", start=\"2019-01-01\", end=\"2022-01-01\")\n",
    "\n",
    "# Loop through the index\n",
    "for date, row in data.iterrows():\n",
    "    date_str = date.strftime('%Y-%m-%d')\n",
    "    adj_close = float(row[\"Close\"])\n",
    "    cs.execute(\"INSERT INTO prices (date, price) VALUES (?, ?);\", (date_str, adj_close))\n",
    "\n",
    "conn.commit()\n",
    "print(\"Loaded prices into SP500.db\")\n"
   ]
  },
  {
   "cell_type": "code",
   "execution_count": 6,
   "id": "e073fe42-2aed-4928-862f-cfbc3c83e1f2",
   "metadata": {},
   "outputs": [
    {
     "name": "stdout",
     "output_type": "stream",
     "text": [
      "('2019-01-02', '2021-12-31', 757)\n"
     ]
    }
   ],
   "source": [
    "# Sanity check\n",
    "cs.execute(\"SELECT MIN(date), MAX(date), COUNT(*) FROM prices;\")\n",
    "print(cs.fetchone())"
   ]
  },
  {
   "cell_type": "code",
   "execution_count": 7,
   "id": "467ecbfb-40b2-4b68-817a-92ae5ca4c698",
   "metadata": {},
   "outputs": [],
   "source": [
    "import csv\n",
    "from contextlib import closing\n",
    "from datetime import datetime\n",
    "\n",
    "import numpy as np\n",
    "from scipy.stats import norm\n"
   ]
  },
  {
   "cell_type": "code",
   "execution_count": 8,
   "id": "256a9be5-5b61-4ba7-bcbf-ac8abd6d1c7a",
   "metadata": {},
   "outputs": [],
   "source": [
    "class GBM:\n",
    "    def __init__(self):\n",
    "        self.mu, self.sigma = [np.nan, np.nan]\n",
    "\n",
    "    def simulate(self, N, K, Dt, S0):\n",
    "        # Simulate K trajectories over N steps of size Dt, starting from S0\n",
    "        traj = np.empty((N + 1, K))\n",
    "        traj[0] = S0\n",
    "        Z = np.random.normal(size=(N, K))\n",
    "        drift = (self.mu - 0.5 * self.sigma**2) * Dt\n",
    "        diffusion = self.sigma * np.sqrt(Dt) * Z\n",
    "\n",
    "        for t in range(1, N + 1):\n",
    "            traj[t] = traj[t - 1] * np.exp(drift + diffusion[t - 1])\n",
    "\n",
    "        return traj\n",
    "\n",
    "    def calibrate(self, prices, Dt):\n",
    "        log_returns = np.diff(np.log(prices))\n",
    "        self.mu = np.mean(log_returns) / Dt\n",
    "        self.sigma = np.std(log_returns) / np.sqrt(Dt)\n",
    "\n",
    "\n",
    "    def forecast(self, latest, T, confidence):\n",
    "        mu_hat = self.mu - 0.5 * self.sigma**2\n",
    "        mean = np.log(latest) + mu_hat * T\n",
    "        std = self.sigma * np.sqrt(T)\n",
    "        z = norm.ppf((1 + confidence) / 2)\n",
    "        lower = np.exp(mean - z * std)\n",
    "        upper = np.exp(mean + z * std)\n",
    "        expected_price = np.exp(mean)\n",
    "        return (expected_price, lower, upper)\n",
    "\n",
    "    def expected_shortfall(self, T, confidence):\n",
    "        z = norm.ppf((1 + confidence) / 2)\n",
    "        std = self.sigma * np.sqrt(T)\n",
    "        return z * std"
   ]
  },
  {
   "cell_type": "code",
   "execution_count": 9,
   "id": "01423de3-6035-4e33-a192-6295b0aa7df1",
   "metadata": {},
   "outputs": [
    {
     "name": "stdout",
     "output_type": "stream",
     "text": [
      "Calibrated: mu = 0.4316231359026439, sigma = 0.21340420083479084\n"
     ]
    }
   ],
   "source": [
    "# Test\n",
    "model = GBM()\n",
    "model.mu = 0.3\n",
    "model.sigma = 0.2\n",
    "simulated = model.simulate(500, 1, 1/250, 100)\n",
    "simulated = simulated[:, 0]\n",
    "\n",
    "model2 = GBM()\n",
    "model2.calibrate(simulated, 1/250)\n",
    "\n",
    "print(F\"Calibrated: mu = {model2.mu}, sigma = {model2.sigma}\")\n",
    "\n"
   ]
  },
  {
   "cell_type": "markdown",
   "id": "e00684f0-f1f3-4cc6-a8b8-8d518fe54e8f",
   "metadata": {},
   "source": [
    "2. Write a function that prepares the database for trading, i.e.\n",
    "   1. load the historical prices into the *prices* table\n",
    "   2. create the *positions* table\n",
    "   3. initialize the *positions* table with the your initial cash reserve. The initial *time_of_trade* can be any date before the earliest possible trading date.\n",
    "\n",
    "    Call this function *prepare*."
   ]
  },
  {
   "cell_type": "code",
   "execution_count": 11,
   "id": "4e567514-7e6f-4c2a-b921-23983754ae05",
   "metadata": {},
   "outputs": [],
   "source": [
    "def prepare():\n",
    "    # Create prices table and load SPY data\n",
    "    cs.execute(\"DROP TABLE IF EXISTS prices\")\n",
    "    cs.execute(\"\"\"\n",
    "        CREATE TABLE prices (\n",
    "            date TEXT PRIMARY KEY,\n",
    "            price REAL\n",
    "        )\n",
    "    \"\"\")\n",
    "\n",
    "    print(\"Downloading SPY price data...\")\n",
    "    data = yf.download(\"SPY\", start=\"2019-01-01\", end=\"2022-01-01\")\n",
    "\n",
    "    for date, row in data.iterrows():\n",
    "        date_str = date.strftime('%Y-%m-%d')\n",
    "        price = float(row[\"Close\"])\n",
    "        cs.execute(\"INSERT INTO prices (date, price) VALUES (?, ?);\", (date_str, price))\n",
    "\n",
    "    # Create and seed the positions table\n",
    "    cs.execute(\"DROP TABLE IF EXISTS positions\")\n",
    "    cs.execute(\"\"\"\n",
    "        CREATE TABLE positions (\n",
    "            time_of_trade TEXT,\n",
    "            position INTEGER,\n",
    "            cash REAL\n",
    "        )\n",
    "    \"\"\")\n",
    "    cs.execute(\"INSERT INTO positions VALUES (?, ?, ?)\", (\"1900-01-01\", 0, 1_000_000))\n",
    "\n",
    "    conn.commit()\n"
   ]
  },
  {
   "cell_type": "code",
   "execution_count": 12,
   "id": "82a96f4f-25c0-48dd-a3f3-b46554133cc6",
   "metadata": {},
   "outputs": [
    {
     "name": "stderr",
     "output_type": "stream",
     "text": [
      "/var/folders/v4/sm00xvsd7l3cn1whnf5h88ww0000gn/T/ipykernel_29815/3825139263.py:12: FutureWarning: YF.download() has changed argument auto_adjust default to True\n",
      "  data = yf.download(\"SPY\", start=\"2019-01-01\", end=\"2022-01-01\")\n",
      "[*********************100%***********************]  1 of 1 completed"
     ]
    },
    {
     "name": "stdout",
     "output_type": "stream",
     "text": [
      "Downloading SPY price data...\n"
     ]
    },
    {
     "name": "stderr",
     "output_type": "stream",
     "text": [
      "\n",
      "/var/folders/v4/sm00xvsd7l3cn1whnf5h88ww0000gn/T/ipykernel_29815/3825139263.py:16: FutureWarning: Calling float on a single element Series is deprecated and will raise a TypeError in the future. Use float(ser.iloc[0]) instead\n",
      "  price = float(row[\"Close\"])\n"
     ]
    },
    {
     "ename": "NameError",
     "evalue": "name 'main' is not defined",
     "output_type": "error",
     "traceback": [
      "\u001b[0;31m---------------------------------------------------------------------------\u001b[0m",
      "\u001b[0;31mNameError\u001b[0m                                 Traceback (most recent call last)",
      "Cell \u001b[0;32mIn[12], line 2\u001b[0m\n\u001b[1;32m      1\u001b[0m prepare()\n\u001b[0;32m----> 2\u001b[0m main(\u001b[38;5;124m'\u001b[39m\u001b[38;5;124m2020-06-01\u001b[39m\u001b[38;5;124m'\u001b[39m)\n",
      "\u001b[0;31mNameError\u001b[0m: name 'main' is not defined"
     ]
    }
   ],
   "source": [
    "prepare()"
   ]
  },
  {
   "cell_type": "code",
   "execution_count": null,
   "id": "a49212c8-5b6c-43d5-bf96-d09e9b34e1c7",
   "metadata": {},
   "outputs": [],
   "source": [
    "# Test\n",
    "prepare()\n",
    "latest_prices = cs.execute(\"select * from prices order by date desc limit 10\")\n",
    "for item in latest_prices:\n",
    "    print(item)"
   ]
  },
  {
   "cell_type": "markdown",
   "id": "0e04e94a-b8db-464c-89c1-b09d0c78721c",
   "metadata": {},
   "source": [
    "3. Write a function that determines the trade size, i.e. how many units of the instrument you would like to own when the date is *which_day* and the price forecast of the instrument is *forecast* and the expected shortfall from the same forecast is *ES*."
   ]
  },
  {
   "cell_type": "code",
   "execution_count": null,
   "id": "a9464c40-fcd4-4c95-9573-f2149e3f516a",
   "metadata": {},
   "outputs": [],
   "source": [
    "def position_size(which_day, forecast, ES):\n",
    "    \"\"\"\n",
    "    Determine how many units to trade based on forecast and expected shortfall.\n",
    "    \"\"\"\n",
    "    if any(map(np.isnan, [forecast, ES])):\n",
    "        return 0\n",
    "    \n",
    "    price_today = cs.execute(\"SELECT price FROM prices WHERE date = ?\", (which_day,)).fetchone()\n",
    "    if price_today is None:\n",
    "        return 0\n",
    "\n",
    "    price_today = price_today[0]\n",
    "    expected_gain = forecast - price_today\n",
    "\n",
    "    # NEW: Check for NaN inputs\n",
    "    if any(map(np.isnan, [forecast, ES, expected_gain])):\n",
    "        return 0\n",
    "\n",
    "    if expected_gain <= 0 or ES <= 0:\n",
    "        return 0\n",
    "\n",
    "    CONFIDENCE_MULTIPLIER = 100\n",
    "    size = int(CONFIDENCE_MULTIPLIER * expected_gain / ES)\n",
    "    return size\n"
   ]
  },
  {
   "cell_type": "markdown",
   "id": "a11da3ea-e80b-448d-9a7c-4313846a7cbd",
   "metadata": {},
   "source": [
    "4. Write a function that, for a given date, calibrates a GBM model to the data prior to that date and that forecasts the price in 10 days. Call this function *analyse*."
   ]
  },
  {
   "cell_type": "code",
   "execution_count": null,
   "id": "6942ce74-eb42-4343-8686-e13f131a56ed",
   "metadata": {},
   "outputs": [],
   "source": [
    "def analyse(which_day):\n",
    "    cs.execute(\"SELECT price FROM prices WHERE date < ? ORDER BY date\", (which_day,))\n",
    "    rows = cs.fetchall()\n",
    "    \n",
    "    if len(rows) < 2:\n",
    "        return (np.nan, np.nan)\n",
    "\n",
    "    prices = np.array([row[0] for row in rows], dtype=float)\n",
    "\n",
    "    # Ensure 1D input to calibrate\n",
    "    prices = prices.flatten()\n",
    "\n",
    "    gbm = GBM()\n",
    "    Dt = 1 / 252\n",
    "    gbm.calibrate(prices, Dt)  # <<— important that it's 1D!\n",
    "\n",
    "    latest_price = prices[-1]\n",
    "    T = 10 / 252\n",
    "    forecast = gbm.forecast(latest_price, T, confidence=0.95)\n",
    "    ES = gbm.expected_shortfall(T, confidence=0.95)\n",
    "\n",
    "    return forecast, ES\n"
   ]
  },
  {
   "cell_type": "code",
   "execution_count": null,
   "id": "a1d3666d-3d7f-4488-96bf-44ddf677e6c3",
   "metadata": {},
   "outputs": [],
   "source": [
    "# Test the analyse function\n",
    "test_dates = ['2021-05-09', '2021-05-14']\n",
    "positions = [np.nan, np.nan]\n",
    "for i in range(2):\n",
    "    positions[i] = analyse(test_dates[i])\n",
    "    print(F\"{positions[i]} shares advised on {test_dates[i]}.\")"
   ]
  },
  {
   "cell_type": "code",
   "execution_count": null,
   "id": "4ab58cd5-9bb4-41a8-9e06-71292e32a77c",
   "metadata": {},
   "outputs": [],
   "source": [
    "cs.execute(\"SELECT COUNT(*) FROM prices WHERE date < '2021-05-09'\")\n",
    "print(cs.fetchone())\n",
    "\n",
    "cs.execute(\"SELECT COUNT(*) FROM prices WHERE date < '2021-05-14'\")\n",
    "print(cs.fetchone())\n"
   ]
  },
  {
   "cell_type": "markdown",
   "id": "98b5ecb1-25a1-4f30-98c6-3b7bd783630d",
   "metadata": {},
   "source": [
    "5. The main loop of the program: Loop over the dates in the backtest period and use the *analyse* function to decide what to do on each day. Call this function *main*."
   ]
  },
  {
   "cell_type": "code",
   "execution_count": null,
   "id": "5fe3c7d2-5303-409d-ac27-28aa05bcb038",
   "metadata": {},
   "outputs": [],
   "source": [
    "def main(begin_on):\n",
    "    import math\n",
    "\n",
    "    # Get all trading days starting from the given date\n",
    "    cs.execute(\"SELECT date FROM prices WHERE date >= ?;\", (begin_on,))\n",
    "    days = [d[0] for d in cs.fetchall()]\n",
    "\n",
    "    # Clear any existing trades beyond the starting point\n",
    "    cs.execute(\"DELETE FROM positions WHERE time_of_trade > ?\", (begin_on,))\n",
    "\n",
    "    for d in days:\n",
    "        # Get most recent known position and cash before today\n",
    "        cs.execute(\"\"\"\n",
    "            SELECT position, cash FROM positions\n",
    "            WHERE time_of_trade <= ?\n",
    "            ORDER BY time_of_trade DESC\n",
    "            LIMIT 1;\n",
    "        \"\"\", (d,))\n",
    "        result = cs.fetchone()\n",
    "        if result:\n",
    "            asset_old, cash_old = result\n",
    "        else:\n",
    "            asset_old, cash_old = 0, 1_000_000  # fallback\n",
    "\n",
    "        # Run forecast and expected shortfall\n",
    "        forecast_tuple, ES = analyse(d)\n",
    "        forecast_price = forecast_tuple[0] if forecast_tuple else np.nan\n",
    "\n",
    "        # Get latest known price (today’s price or earlier)\n",
    "        cs.execute(\"\"\"\n",
    "            SELECT price FROM prices\n",
    "            WHERE date <= ?\n",
    "            ORDER BY date DESC\n",
    "            LIMIT 1;\n",
    "        \"\"\", (d,))\n",
    "        latest_price_row = cs.fetchone()\n",
    "        if latest_price_row is None:\n",
    "            continue  # no price available, skip this date\n",
    "\n",
    "        latest_price = latest_price_row[0]\n",
    "\n",
    "        # Skip days with invalid forecast\n",
    "        if any(map(np.isnan, [forecast_price, ES, latest_price])):\n",
    "            continue\n",
    "\n",
    "        # Get new advised position\n",
    "        asset_new = position_size(d, forecast_price, ES)\n",
    "\n",
    "        # Calculate trade size and new cash\n",
    "        trade_size = asset_new - asset_old\n",
    "        cash_new = cash_old - trade_size * latest_price\n",
    "\n",
    "        # Save the trade\n",
    "        cs.execute(\"\"\"\n",
    "            INSERT INTO positions (time_of_trade, position, cash)\n",
    "            VALUES (?, ?, ?);\n",
    "        \"\"\", (d, asset_new, cash_new))\n",
    "\n",
    "    conn.commit()\n"
   ]
  },
  {
   "cell_type": "markdown",
   "id": "9354ec76-c14e-4d7b-8873-1ebae1132a76",
   "metadata": {},
   "source": [
    "6. Connect to the database and create a *cursor* object associated with the connection. Share the connection and the cursor object across the program so that you don't have to connect to and disconnect from the database in every function of the program."
   ]
  },
  {
   "cell_type": "code",
   "execution_count": null,
   "id": "69008339-f677-430c-8a97-955b794b7dbf",
   "metadata": {},
   "outputs": [],
   "source": [
    "if __name__ == \"__main__\":\n",
    "    with closing(sqlite3.connect(\"SP500.db\")) as conn:\n",
    "        with closing(conn.cursor()) as cs:\n",
    "            prepare()\n",
    "            main('2020-06-01')\n",
    "    \n"
   ]
  },
  {
   "cell_type": "code",
   "execution_count": null,
   "id": "8a770c29-8878-43a2-a881-1084835960c4",
   "metadata": {},
   "outputs": [],
   "source": [
    "# plot your track record\n",
    "conn = sqlite3.connect(\"SP500.db\")\n",
    "cs = conn.cursor()\n",
    "\n",
    "day1 = '2020-06-01'\n",
    "day1_dt = datetime.strptime(day1, '%Y-%m-%d')\n",
    "\n",
    "cs.execute(f\"\"\"\n",
    "    select date, position * price + cash as wealth\n",
    "    from positions as PO\n",
    "    join prices as PR\n",
    "    on PO.time_of_trade = (\n",
    "        select time_of_trade from positions\n",
    "        where time_of_trade <= PR.date\n",
    "        order by time_of_trade desc limit 1\n",
    "    )\n",
    "    where date >= '{day1}';\n",
    "\"\"\")\n",
    "\n",
    "records = cs.fetchall()\n",
    "\n",
    "def calculate_T(record, day1_dt):\n",
    "    date, wealth = record\n",
    "    date_dt = datetime.strptime(date, '%Y-%m-%d')\n",
    "    T = (date_dt - day1_dt).days\n",
    "    return (T, wealth)\n",
    "\n",
    "records = [calculate_T(record, day1_dt) for record in records]\n",
    "W = np.array(records, dtype=float).reshape(-1, 2)"
   ]
  },
  {
   "cell_type": "code",
   "execution_count": null,
   "id": "f0f34182-b2fe-403e-9913-28ac3c0c52d7",
   "metadata": {},
   "outputs": [],
   "source": [
    "import matplotlib.pyplot as plt\n",
    "import numpy as np\n",
    "from datetime import datetime\n",
    "\n",
    "prepare()\n",
    "main(\"2020-06-01\")\n",
    "\n",
    "conn = sqlite3.connect(\"SP500.db\")\n",
    "cs = conn.cursor()\n",
    "\n",
    "# Get all prices and match with most recent known position\n",
    "cs.execute(\"\"\"\n",
    "    SELECT PR.date, PR.price,\n",
    "           (SELECT position FROM positions\n",
    "            WHERE time_of_trade <= PR.date\n",
    "            ORDER BY time_of_trade DESC\n",
    "            LIMIT 1) as position,\n",
    "           (SELECT cash FROM positions\n",
    "            WHERE time_of_trade <= PR.date\n",
    "            ORDER BY time_of_trade DESC\n",
    "            LIMIT 1) as cash\n",
    "    FROM prices PR\n",
    "    WHERE PR.date >= '2020-06-01'\n",
    "    ORDER BY PR.date;\n",
    "\"\"\")\n",
    "\n",
    "rows = cs.fetchall()\n",
    "\n",
    "# Convert to wealth\n",
    "wealth_records = []\n",
    "start_date = datetime.strptime(\"2020-06-01\", \"%Y-%m-%d\")\n",
    "for row in rows:\n",
    "    date_str, price, position, cash = row\n",
    "    if None in (price, position, cash):\n",
    "        continue\n",
    "    dt = datetime.strptime(date_str, \"%Y-%m-%d\")\n",
    "    T = (dt - start_date).days\n",
    "    wealth = position * price + cash\n",
    "    wealth_records.append((T, wealth))\n",
    "\n",
    "W = np.array(wealth_records)\n",
    "\n",
    "# Plot\n",
    "plt.figure(figsize=(10, 5))\n",
    "plt.plot(W[:, 0], W[:, 1])\n",
    "plt.xlabel(\"Trading Days Since 2020-06-01\")\n",
    "plt.ylabel(\"Total Wealth ($)\")\n",
    "plt.title(\"Strategy Performance\")\n",
    "plt.grid(True)\n",
    "plt.tight_layout()\n",
    "plt.show()\n"
   ]
  }
 ],
 "metadata": {
  "kernelspec": {
   "display_name": "Python [conda env:base] *",
   "language": "python",
   "name": "conda-base-py"
  },
  "language_info": {
   "codemirror_mode": {
    "name": "ipython",
    "version": 3
   },
   "file_extension": ".py",
   "mimetype": "text/x-python",
   "name": "python",
   "nbconvert_exporter": "python",
   "pygments_lexer": "ipython3",
   "version": "3.12.7"
  }
 },
 "nbformat": 4,
 "nbformat_minor": 5
}
